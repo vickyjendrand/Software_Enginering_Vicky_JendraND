{
  "nbformat": 4,
  "nbformat_minor": 0,
  "metadata": {
    "colab": {
      "name": "Hw No 1.ipynb",
      "provenance": [],
      "collapsed_sections": []
    },
    "kernelspec": {
      "name": "python3",
      "display_name": "Python 3"
    },
    "language_info": {
      "name": "python"
    }
  },
  "cells": [
    {
      "cell_type": "code",
      "metadata": {
        "colab": {
          "base_uri": "https://localhost:8080/"
        },
        "id": "AVv-0_AU7cRv",
        "outputId": "f7159c15-2cdf-496b-989e-fc8dbbaf6a91"
      },
      "source": [
        "luas = [2, 4, 10, 3, 45, 22, 100]\n",
        "luas.sort()\n",
        "print(luas)\n",
        "print(luas[5])\n",
        "print(luas[-2])"
      ],
      "execution_count": 17,
      "outputs": [
        {
          "output_type": "stream",
          "name": "stdout",
          "text": [
            "[2, 3, 4, 10, 22, 45, 100]\n",
            "45\n",
            "45\n"
          ]
        }
      ]
    }
  ]
}