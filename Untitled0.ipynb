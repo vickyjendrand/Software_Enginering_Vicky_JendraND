{
  "nbformat": 4,
  "nbformat_minor": 0,
  "metadata": {
    "colab": {
      "name": "Untitled0.ipynb",
      "provenance": [],
      "collapsed_sections": []
    },
    "kernelspec": {
      "name": "python3",
      "display_name": "Python 3"
    },
    "language_info": {
      "name": "python"
    }
  },
  "cells": [
    {
      "cell_type": "code",
      "metadata": {
        "colab": {
          "base_uri": "https://localhost:8080/"
        },
        "id": "i2hkLcLwH3nZ",
        "outputId": "f4374174-09b5-480e-8812-1dd490e9319a"
      },
      "source": [
        "a = 10\n",
        "b = \"vicky\"\n",
        "print (\"namaku {}\".format(a))\n",
        "\n",
        "print(\"namaku {}, usiaku {}\".format(b,a))"
      ],
      "execution_count": null,
      "outputs": [
        {
          "output_type": "stream",
          "name": "stdout",
          "text": [
            "namaku 10\n",
            "namaku vicky, usiaku 10\n"
          ]
        }
      ]
    },
    {
      "cell_type": "code",
      "metadata": {
        "colab": {
          "base_uri": "https://localhost:8080/"
        },
        "id": "_-VJaH5BMl-w",
        "outputId": "3cc3ca81-3778-454a-9537-64e5d935fc72"
      },
      "source": [
        "a = \"vicky\"\n",
        "print(\"namaku \" + a)"
      ],
      "execution_count": null,
      "outputs": [
        {
          "output_type": "stream",
          "name": "stdout",
          "text": [
            "namaku vicky\n"
          ]
        }
      ]
    },
    {
      "cell_type": "code",
      "metadata": {
        "colab": {
          "base_uri": "https://localhost:8080/"
        },
        "id": "v0LoDdMaNQ0O",
        "outputId": "cb9a6d2a-8c45-4749-b97a-35ffcde15340"
      },
      "source": [
        "isi = [\"vicky\", 10, {\"ragil\", \"rama\"}]\n",
        "isi[2]"
      ],
      "execution_count": null,
      "outputs": [
        {
          "output_type": "execute_result",
          "data": {
            "text/plain": [
              "{'ragil', 'rama'}"
            ]
          },
          "metadata": {},
          "execution_count": 22
        }
      ]
    },
    {
      "cell_type": "code",
      "metadata": {
        "colab": {
          "base_uri": "https://localhost:8080/"
        },
        "id": "fIjo5Z_2PvM0",
        "outputId": "9661b52a-471b-499e-e383-6a5a988ee303"
      },
      "source": [
        "Nama_Kelas = [\"rama\", \"ragil\", \"dapit\", \"bram\", \"bram\", \"kambing\"]\n",
        "print (\"{}\".format(kelas[1:4:2]))"
      ],
      "execution_count": null,
      "outputs": [
        {
          "output_type": "stream",
          "name": "stdout",
          "text": [
            "['ragil', 'bram']\n"
          ]
        }
      ]
    },
    {
      "cell_type": "code",
      "metadata": {
        "colab": {
          "base_uri": "https://localhost:8080/",
          "height": 35
        },
        "id": "_Ei2iymjUIeP",
        "outputId": "4335131f-7464-4f10-c1de-1e53b8e86878"
      },
      "source": [
        "kelas = [\"rama\",\"ragil\",\"dapit\",\"bram\",\"leo\"]\n",
        "print (\"{}\".format(kelas[]))"
      ],
      "execution_count": null,
      "outputs": [
        {
          "output_type": "execute_result",
          "data": {
            "application/vnd.google.colaboratory.intrinsic+json": {
              "type": "string"
            },
            "text/plain": [
              "'dapit'"
            ]
          },
          "metadata": {},
          "execution_count": 34
        }
      ]
    }
  ]
}